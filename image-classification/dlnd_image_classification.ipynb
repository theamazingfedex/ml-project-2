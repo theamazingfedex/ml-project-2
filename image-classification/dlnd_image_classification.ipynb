{
 "cells": [
  {
   "cell_type": "markdown",
   "metadata": {
    "collapsed": true,
    "deletable": true,
    "editable": true
   },
   "source": [
    "# Image Classification\n",
    "In this project, you'll classify images from the [CIFAR-10 dataset](https://www.cs.toronto.edu/~kriz/cifar.html).  The dataset consists of airplanes, dogs, cats, and other objects. You'll preprocess the images, then train a convolutional neural network on all the samples. The images need to be normalized and the labels need to be one-hot encoded.  You'll get to apply what you learned and build a convolutional, max pooling, dropout, and fully connected layers.  At the end, you'll get to see your neural network's predictions on the sample images.\n",
    "## Get the Data\n",
    "Run the following cell to download the [CIFAR-10 dataset for python](https://www.cs.toronto.edu/~kriz/cifar-10-python.tar.gz)."
   ]
  },
  {
   "cell_type": "code",
   "execution_count": 1,
   "metadata": {
    "collapsed": false,
    "deletable": true,
    "editable": true
   },
   "outputs": [
    {
     "name": "stderr",
     "output_type": "stream",
     "text": [
      "CIFAR-10 Dataset: 171MB [00:21, 7.94MB/s]                              \n"
     ]
    },
    {
     "name": "stdout",
     "output_type": "stream",
     "text": [
      "All files found!\n"
     ]
    }
   ],
   "source": [
    "\"\"\"\n",
    "DON'T MODIFY ANYTHING IN THIS CELL THAT IS BELOW THIS LINE\n",
    "\"\"\"\n",
    "from urllib.request import urlretrieve\n",
    "from os.path import isfile, isdir\n",
    "from tqdm import tqdm\n",
    "import problem_unittests as tests\n",
    "import tarfile\n",
    "\n",
    "cifar10_dataset_folder_path = 'cifar-10-batches-py'\n",
    "\n",
    "class DLProgress(tqdm):\n",
    "    last_block = 0\n",
    "\n",
    "    def hook(self, block_num=1, block_size=1, total_size=None):\n",
    "        self.total = total_size\n",
    "        self.update((block_num - self.last_block) * block_size)\n",
    "        self.last_block = block_num\n",
    "\n",
    "if not isfile('cifar-10-python.tar.gz'):\n",
    "    with DLProgress(unit='B', unit_scale=True, miniters=1, desc='CIFAR-10 Dataset') as pbar:\n",
    "        urlretrieve(\n",
    "            'https://www.cs.toronto.edu/~kriz/cifar-10-python.tar.gz',\n",
    "            'cifar-10-python.tar.gz',\n",
    "            pbar.hook)\n",
    "\n",
    "if not isdir(cifar10_dataset_folder_path):\n",
    "    with tarfile.open('cifar-10-python.tar.gz') as tar:\n",
    "        tar.extractall()\n",
    "        tar.close()\n",
    "\n",
    "\n",
    "tests.test_folder_path(cifar10_dataset_folder_path)"
   ]
  },
  {
   "cell_type": "markdown",
   "metadata": {
    "deletable": true,
    "editable": true
   },
   "source": [
    "## Explore the Data\n",
    "The dataset is broken into batches to prevent your machine from running out of memory.  The CIFAR-10 dataset consists of 5 batches, named `data_batch_1`, `data_batch_2`, etc.. Each batch contains the labels and images that are one of the following:\n",
    "* airplane\n",
    "* automobile\n",
    "* bird\n",
    "* cat\n",
    "* deer\n",
    "* dog\n",
    "* frog\n",
    "* horse\n",
    "* ship\n",
    "* truck\n",
    "\n",
    "Understanding a dataset is part of making predictions on the data.  Play around with the code cell below by changing the `batch_id` and `sample_id`. The `batch_id` is the id for a batch (1-5). The `sample_id` is the id for a image and label pair in the batch.\n",
    "\n",
    "Ask yourself \"What are all possible labels?\", \"What is the range of values for the image data?\", \"Are the labels in order or random?\".  Answers to questions like these will help you preprocess the data and end up with better predictions."
   ]
  },
  {
   "cell_type": "code",
   "execution_count": 2,
   "metadata": {
    "collapsed": false,
    "deletable": true,
    "editable": true
   },
   "outputs": [
    {
     "name": "stdout",
     "output_type": "stream",
     "text": [
      "\n",
      "Stats of batch 1:\n",
      "Samples: 10000\n",
      "Label Counts: {0: 1005, 1: 974, 2: 1032, 3: 1016, 4: 999, 5: 937, 6: 1030, 7: 1001, 8: 1025, 9: 981}\n",
      "First 20 Labels: [6, 9, 9, 4, 1, 1, 2, 7, 8, 3, 4, 7, 7, 2, 9, 9, 9, 3, 2, 6]\n",
      "\n",
      "Example of Image 5:\n",
      "Image - Min Value: 0 Max Value: 252\n",
      "Image - Shape: (32, 32, 3)\n",
      "Label - Label Id: 1 Name: automobile\n"
     ]
    },
    {
     "data": {
      "image/png": "[encoded data removed]",
      "text/plain": [
       "<matplotlib.figure.Figure at 0x7f2115a59b70>"
      ]
     },
     "metadata": {
      "image/png": {
       "height": 250,
       "width": 253
      }
     },
     "output_type": "display_data"
    }
   ],
   "source": [
    "%matplotlib inline\n",
    "%config InlineBackend.figure_format = 'retina'\n",
    "\n",
    "import helper\n",
    "import numpy as np\n",
    "\n",
    "# Explore the dataset\n",
    "batch_id = 1\n",
    "sample_id = 5\n",
    "helper.display_stats(cifar10_dataset_folder_path, batch_id, sample_id)"
   ]
  },
  {
   "cell_type": "markdown",
   "metadata": {
    "deletable": true,
    "editable": true
   },
   "source": [
    "## Implement Preprocess Functions\n",
    "### Normalize\n",
    "In the cell below, implement the `normalize` function to take in image data, `x`, and return it as a normalized Numpy array. The values should be in the range of 0 to 1, inclusive.  The return object should be the same shape as `x`."
   ]
  },
  {
   "cell_type": "code",
   "execution_count": 3,
   "metadata": {
    "collapsed": false,
    "deletable": true,
    "editable": true
   },
   "outputs": [
    {
     "name": "stdout",
     "output_type": "stream",
     "text": [
      "Tests Passed\n"
     ]
    }
   ],
   "source": [
    "from sklearn.preprocessing import Normalizer as normal\n",
    "\n",
    "def normalize(x):\n",
    "    \"\"\"\n",
    "    Normalize a list of sample image data in the range of 0 to 1\n",
    "    : x: List of image data.  The image shape is (32, 32, 3)\n",
    "    : return: Numpy array of normalize data\n",
    "    \"\"\"\n",
    "    # TODO: Implement Function\n",
    "    n = x.reshape(len(x[0]), -1).astype(float)\n",
    "    r = normal().fit_transform(n)\n",
    "    r = r.reshape(len(x), 32, 32, 3)\n",
    "    return r\n",
    "\n",
    "\n",
    "\"\"\"\n",
    "DON'T MODIFY ANYTHING IN THIS CELL THAT IS BELOW THIS LINE\n",
    "\"\"\"\n",
    "tests.test_normalize(normalize)\n"
   ]
  },
  {
   "cell_type": "markdown",
   "metadata": {
    "deletable": true,
    "editable": true
   },
   "source": [
    "### One-hot encode\n",
    "Just like the previous code cell, you'll be implementing a function for preprocessing.  This time, you'll implement the `one_hot_encode` function. The input, `x`, are a list of labels.  Implement the function to return the list of labels as One-Hot encoded Numpy array.  The possible values for labels are 0 to 9. The one-hot encoding function should return the same encoding for each value between each call to `one_hot_encode`.  Make sure to save the map of encodings outside the function.\n",
    "\n",
    "Hint: Don't reinvent the wheel."
   ]
  },
  {
   "cell_type": "code",
   "execution_count": 4,
   "metadata": {
    "collapsed": false,
    "deletable": true,
    "editable": true
   },
   "outputs": [
    {
     "name": "stdout",
     "output_type": "stream",
     "text": [
      "Tests Passed\n"
     ]
    }
   ],
   "source": [
    "from sklearn.preprocessing import OneHotEncoder\n",
    "onehotEncoder = OneHotEncoder(n_values=10)\n",
    "\n",
    "def one_hot_encode(x):\n",
    "    \"\"\"\n",
    "    One hot encode a list of sample labels. Return a one-hot encoded vector for each label.\n",
    "    : x: List of sample Labels\n",
    "    : return: Numpy array of one-hot encoded labels\n",
    "    \"\"\"\n",
    "    # TODO: Implement Function\n",
    "    x = np.array(x).reshape(-1,1)\n",
    "    return onehotEncoder.fit_transform(x).toarray()\n",
    "\n",
    "\n",
    "\"\"\"\n",
    "DON'T MODIFY ANYTHING IN THIS CELL THAT IS BELOW THIS LINE\n",
    "\"\"\"\n",
    "tests.test_one_hot_encode(one_hot_encode)"
   ]
  },
  {
   "cell_type": "markdown",
   "metadata": {
    "deletable": true,
    "editable": true
   },
   "source": [
    "### Randomize Data\n",
    "As you saw from exploring the data above, the order of the samples are randomized.  It doesn't hurt to randomize it again, but you don't need to for this dataset."
   ]
  },
  {
   "cell_type": "markdown",
   "metadata": {
    "deletable": true,
    "editable": true
   },
   "source": [
    "## Preprocess all the data and save it\n",
    "Running the code cell below will preprocess all the CIFAR-10 data and save it to file. The code below also uses 10% of the training data for validation."
   ]
  },
  {
   "cell_type": "code",
   "execution_count": 5,
   "metadata": {
    "collapsed": false,
    "deletable": true,
    "editable": true
   },
   "outputs": [],
   "source": [
    "\"\"\"\n",
    "DON'T MODIFY ANYTHING IN THIS CELL\n",
    "\"\"\"\n",
    "# Preprocess Training, Validation, and Testing Data\n",
    "helper.preprocess_and_save_data(cifar10_dataset_folder_path, normalize, one_hot_encode)"
   ]
  },
  {
   "cell_type": "markdown",
   "metadata": {
    "deletable": true,
    "editable": true
   },
   "source": [
    "# Check Point\n",
    "This is your first checkpoint.  If you ever decide to come back to this notebook or have to restart the notebook, you can start from here.  The preprocessed data has been saved to disk."
   ]
  },
  {
   "cell_type": "code",
   "execution_count": 6,
   "metadata": {
    "collapsed": true,
    "deletable": true,
    "editable": true
   },
   "outputs": [],
   "source": [
    "\"\"\"\n",
    "DON'T MODIFY ANYTHING IN THIS CELL\n",
    "\"\"\"\n",
    "import pickle\n",
    "import problem_unittests as tests\n",
    "import helper\n",
    "\n",
    "# Load the Preprocessed Validation data\n",
    "valid_features, valid_labels = pickle.load(open('preprocess_validation.p', mode='rb'))"
   ]
  },
  {
   "cell_type": "markdown",
   "metadata": {
    "deletable": true,
    "editable": true
   },
   "source": [
    "## Build the network\n",
    "For the neural network, you'll build each layer into a function.  Most of the code you've seen has been outside of functions. To test your code more thoroughly, we require that you put each layer in a function.  This allows us to give you better feedback and test for simple mistakes using our unittests before you submit your project.\n",
    "\n",
    "If you're finding it hard to dedicate enough time for this course a week, we've provided a small shortcut to this part of the project. In the next couple of problems, you'll have the option to use [TensorFlow Layers](https://www.tensorflow.org/api_docs/python/tf/layers) or [TensorFlow Layers (contrib)](https://www.tensorflow.org/api_guides/python/contrib.layers) to build each layer, except \"Convolutional & Max Pooling\" layer.  TF Layers is similar to Keras's and TFLearn's abstraction to layers, so it's easy to pickup.\n",
    "\n",
    "If you would like to get the most of this course, try to solve all the problems without TF Layers.  Let's begin!\n",
    "### Input\n",
    "The neural network needs to read the image data, one-hot encoded labels, and dropout keep probability. Implement the following functions\n",
    "* Implement `neural_net_image_input`\n",
    " * Return a [TF Placeholder](https://www.tensorflow.org/api_docs/python/tf/placeholder)\n",
    " * Set the shape using `image_shape` with batch size set to `None`.\n",
    " * Name the TensorFlow placeholder \"x\" using the TensorFlow `name` parameter in the [TF Placeholder](https://www.tensorflow.org/api_docs/python/tf/placeholder).\n",
    "* Implement `neural_net_label_input`\n",
    " * Return a [TF Placeholder](https://www.tensorflow.org/api_docs/python/tf/placeholder)\n",
    " * Set the shape using `n_classes` with batch size set to `None`.\n",
    " * Name the TensorFlow placeholder \"y\" using the TensorFlow `name` parameter in the [TF Placeholder](https://www.tensorflow.org/api_docs/python/tf/placeholder).\n",
    "* Implement `neural_net_keep_prob_input`\n",
    " * Return a [TF Placeholder](https://www.tensorflow.org/api_docs/python/tf/placeholder) for dropout keep probability.\n",
    " * Name the TensorFlow placeholder \"keep_prob\" using the TensorFlow `name` parameter in the [TF Placeholder](https://www.tensorflow.org/api_docs/python/tf/placeholder).\n",
    "\n",
    "These names will be used at the end of the project to load your saved model.\n",
    "\n",
    "Note: `None` for shapes in TensorFlow allow for a dynamic size."
   ]
  },
  {
   "cell_type": "code",
   "execution_count": 7,
   "metadata": {
    "collapsed": false,
    "deletable": true,
    "editable": true
   },
   "outputs": [
    {
     "name": "stdout",
     "output_type": "stream",
     "text": [
      "Image Input Tests Passed.\n",
      "Label Input Tests Passed.\n",
      "Keep Prob Tests Passed.\n"
     ]
    }
   ],
   "source": [
    "import tensorflow as tf\n",
    "\n",
    "def neural_net_image_input(image_shape):\n",
    "    \"\"\"\n",
    "    Return a Tensor for a batch of image input\n",
    "    : image_shape: Shape of the images\n",
    "    : return: Tensor for image input.\n",
    "    \"\"\"\n",
    "    # TODO: Implement Function\n",
    "    return tf.placeholder(tf.float32, shape=(None, *image_shape), name='x')\n",
    "\n",
    "\n",
    "def neural_net_label_input(n_classes):\n",
    "    \"\"\"\n",
    "    Return a Tensor for a batch of label input\n",
    "    : n_classes: Number of classes\n",
    "    : return: Tensor for label input.\n",
    "    \"\"\"\n",
    "    # TODO: Implement Function\n",
    "    \n",
    "    return tf.placeholder(tf.float32, shape=(None, n_classes), name='y')\n",
    "\n",
    "\n",
    "def neural_net_keep_prob_input():\n",
    "    \"\"\"\n",
    "    Return a Tensor for keep probability\n",
    "    : return: Tensor for keep probability.\n",
    "    \"\"\"\n",
    "    # TODO: Implement Function\n",
    "    return tf.placeholder(tf.float32, name='keep_prob')\n",
    "\n",
    "\n",
    "\"\"\"\n",
    "DON'T MODIFY ANYTHING IN THIS CELL THAT IS BELOW THIS LINE\n",
    "\"\"\"\n",
    "tf.reset_default_graph()\n",
    "tests.test_nn_image_inputs(neural_net_image_input)\n",
    "tests.test_nn_label_inputs(neural_net_label_input)\n",
    "tests.test_nn_keep_prob_inputs(neural_net_keep_prob_input)"
   ]
  },
  {
   "cell_type": "markdown",
   "metadata": {
    "deletable": true,
    "editable": true
   },
   "source": [
    "### Convolution and Max Pooling Layer\n",
    "Convolution layers have a lot of success with images. For this code cell, you should implement the function `conv2d_maxpool` to apply convolution then max pooling:\n",
    "* Create the weight and bias using `conv_ksize`, `conv_num_outputs` and the shape of `x_tensor`.\n",
    "* Apply a convolution to `x_tensor` using weight and `conv_strides`.\n",
    " * We recommend you use same padding, but you're welcome to use any padding.\n",
    "* Add bias\n",
    "* Add a nonlinear activation to the convolution.\n",
    "* Apply Max Pooling using `pool_ksize` and `pool_strides`.\n",
    " * We recommend you use same padding, but you're welcome to use any padding.\n",
    "\n",
    "Note: You **can't** use [TensorFlow Layers](https://www.tensorflow.org/api_docs/python/tf/layers) or [TensorFlow Layers (contrib)](https://www.tensorflow.org/api_guides/python/contrib.layers) for this layer.  You're free to use any TensorFlow package for all the other layers."
   ]
  },
  {
   "cell_type": "markdown",
   "metadata": {
    "deletable": true,
    "editable": true
   },
   "source": [
    "calculating shape changes\n",
    "``` python\n",
    "out_height = ceil(float(in_height - filter_height + 1) / float(strides[1]))\n",
    "out_width  = ceil(float(in_width - filter_width + 1) / float(strides[2]))\n",
    "```"
   ]
  },
  {
   "cell_type": "code",
   "execution_count": 278,
   "metadata": {
    "collapsed": false,
    "deletable": true,
    "editable": true
   },
   "outputs": [
    {
     "name": "stdout",
     "output_type": "stream",
     "text": [
      "Tests Passed\n"
     ]
    }
   ],
   "source": [
    "def conv2d_maxpool(x_tensor, conv_num_outputs, conv_ksize, conv_strides, pool_ksize, pool_strides):\n",
    "    \"\"\"\n",
    "    Apply convolution then max pooling to x_tensor\n",
    "    :param x_tensor: TensorFlow Tensor\n",
    "    :param conv_num_outputs: Number of outputs for the convolutional layer\n",
    "    :param conv_strides: Stride 2-D Tuple for convolution\n",
    "    :param pool_ksize: kernal size 2-D Tuple for pool\n",
    "    :param pool_strides: Stride 2-D Tuple for pool\n",
    "    : return: A tensor that represents convolution and max pooling of x_tensor\n",
    "    \"\"\"\n",
    "    # TODO: Implement Function\n",
    "    depth = x_tensor.get_shape().as_list()[3]\n",
    "    weight = tf.Variable(tf.truncated_normal([*conv_ksize,depth,conv_num_outputs], mean=0.0, stddev=0.1))\n",
    "    bias = tf.Variable(tf.zeros(conv_num_outputs))\n",
    "    padding = 'SAME'\n",
    "    \n",
    "    conv = tf.nn.conv2d(x_tensor, weight, padding=padding, strides=[1,*conv_strides,1], use_cudnn_on_gpu=True)\n",
    "    conv = tf.nn.bias_add(conv, bias)\n",
    "    conv = tf.nn.relu(conv)\n",
    "    \n",
    "    return tf.nn.max_pool(value=conv, ksize=[1,*pool_ksize,1], strides=[1,*pool_strides,1], padding=padding, name='max_pool')\n",
    "\n",
    "\"\"\"\n",
    "DON'T MODIFY ANYTHING IN THIS CELL THAT IS BELOW THIS LINE\n",
    "\"\"\"\n",
    "tests.test_con_pool(conv2d_maxpool)"
   ]
  },
  {
   "cell_type": "markdown",
   "metadata": {
    "deletable": true,
    "editable": true
   },
   "source": [
    "### Flatten Layer\n",
    "Implement the `flatten` function to change the dimension of `x_tensor` from a 4-D tensor to a 2-D tensor.  The output should be the shape (*Batch Size*, *Flattened Image Size*). You can use [TensorFlow Layers](https://www.tensorflow.org/api_docs/python/tf/layers) or [TensorFlow Layers (contrib)](https://www.tensorflow.org/api_guides/python/contrib.layers) for this layer."
   ]
  },
  {
   "cell_type": "code",
   "execution_count": 266,
   "metadata": {
    "collapsed": false,
    "deletable": true,
    "editable": true
   },
   "outputs": [
    {
     "name": "stdout",
     "output_type": "stream",
     "text": [
      "Tests Passed\n"
     ]
    }
   ],
   "source": [
    "def flatten(x_tensor):\n",
    "    \"\"\"\n",
    "    Flatten x_tensor to (Batch Size, Flattened Image Size)\n",
    "    : x_tensor: A tensor of size (Batch Size, ...), where ... are the image dimensions.\n",
    "    : return: A tensor of size (Batch Size, Flattened Image Size).\n",
    "    \"\"\"\n",
    "    # TODO: Implement Function   \n",
    "    dim = 1\n",
    "    for shape in  x_tensor.get_shape().as_list()[1:]:\n",
    "        dim *= shape\n",
    "    return tf.reshape(x_tensor, [-1, dim]) \n",
    "\n",
    "\n",
    "\"\"\"\n",
    "DON'T MODIFY ANYTHING IN THIS CELL THAT IS BELOW THIS LINE\n",
    "\"\"\"\n",
    "tests.test_flatten(flatten)"
   ]
  },
  {
   "cell_type": "markdown",
   "metadata": {
    "deletable": true,
    "editable": true
   },
   "source": [
    "### Fully-Connected Layer\n",
    "Implement the `fully_conn` function to apply a fully connected layer to `x_tensor` with the shape (*Batch Size*, *num_outputs*). You can use [TensorFlow Layers](https://www.tensorflow.org/api_docs/python/tf/layers) or [TensorFlow Layers (contrib)](https://www.tensorflow.org/api_guides/python/contrib.layers) for this layer."
   ]
  },
  {
   "cell_type": "code",
   "execution_count": 277,
   "metadata": {
    "collapsed": false,
    "deletable": true,
    "editable": true
   },
   "outputs": [
    {
     "name": "stdout",
     "output_type": "stream",
     "text": [
      "Tests Passed\n"
     ]
    }
   ],
   "source": [
    "def fully_conn(x_tensor, num_outputs):\n",
    "    \"\"\"\n",
    "    Apply a fully connected layer to x_tensor using weight and bias\n",
    "    : x_tensor: A 2-D tensor where the first dimension is batch size.\n",
    "    : num_outputs: The number of output that the new tensor should be.\n",
    "    : return: A 2-D tensor where the second dimension is num_outputs.\n",
    "    \"\"\"\n",
    "    # TODO: Implement Function\n",
    "    batch_size = x_tensor.get_shape().as_list()[-1]\n",
    "    weights = tf.Variable(tf.truncated_normal([batch_size, num_outputs], mean=0.0, stddev=0.1), name=\"weights_fully_conn\")\n",
    "    bias = tf.Variable(tf.zeros([num_outputs]), name=\"bias_fully_conn\")\n",
    "    linear = tf.nn.bias_add(tf.matmul(x_tensor, weights), bias)\n",
    "    return tf.nn.relu(linear)\n",
    "\n",
    "\n",
    "\"\"\"\n",
    "DON'T MODIFY ANYTHING IN THIS CELL THAT IS BELOW THIS LINE\n",
    "\"\"\"\n",
    "tests.test_fully_conn(fully_conn)"
   ]
  },
  {
   "cell_type": "markdown",
   "metadata": {
    "deletable": true,
    "editable": true
   },
   "source": [
    "### Output Layer\n",
    "Implement the `output` function to apply a fully connected layer to `x_tensor` with the shape (*Batch Size*, *num_outputs*). You can use [TensorFlow Layers](https://www.tensorflow.org/api_docs/python/tf/layers) or [TensorFlow Layers (contrib)](https://www.tensorflow.org/api_guides/python/contrib.layers) for this layer.\n",
    "\n",
    "Note: Activation, softmax, or cross entropy shouldn't be applied to this."
   ]
  },
  {
   "cell_type": "code",
   "execution_count": 321,
   "metadata": {
    "collapsed": false,
    "deletable": true,
    "editable": true
   },
   "outputs": [
    {
     "name": "stdout",
     "output_type": "stream",
     "text": [
      "Tests Passed\n"
     ]
    }
   ],
   "source": [
    "def output(x_tensor, num_outputs):\n",
    "    \"\"\"\n",
    "    Apply a output layer to x_tensor using weight and bias\n",
    "    : x_tensor: A 2-D tensor where the first dimension is batch size.\n",
    "    : num_outputs: The number of output that the new tensor should be.\n",
    "    : return: A 2-D tensor where the second dimension is num_outputs.\n",
    "    \"\"\"\n",
    "    # TODO: Implement Function\n",
    "    shape = x_tensor.get_shape().as_list()[-1]\n",
    "    weights = tf.Variable(tf.random_normal([shape, num_outputs], mean=0.0, stddev=0.1), name=\"weights_output\")\n",
    "    bias = tf.Variable(tf.zeros([num_outputs]), name=\"bias_output\")\n",
    "    linear = tf.nn.bias_add(tf.matmul(x_tensor, weights), bias)\n",
    "    return linear\n",
    "\n",
    "\n",
    "\"\"\"\n",
    "DON'T MODIFY ANYTHING IN THIS CELL THAT IS BELOW THIS LINE\n",
    "\"\"\"\n",
    "tests.test_output(output)"
   ]
  },
  {
   "cell_type": "markdown",
   "metadata": {
    "deletable": true,
    "editable": true
   },
   "source": [
    "### Create Convolutional Model\n",
    "Implement the function `conv_net` to create a convolutional neural network model. The function takes in a batch of images, `x`, and outputs logits.  Use the layers you created above to create this model:\n",
    "\n",
    "* Apply 1, 2, or 3 Convolution and Max Pool layers\n",
    "* Apply a Flatten Layer\n",
    "* Apply 1, 2, or 3 Fully Connected Layers\n",
    "* Apply an Output Layer\n",
    "* Return the output\n",
    "* Apply [TensorFlow's Dropout](https://www.tensorflow.org/api_docs/python/tf/nn/dropout) to one or more layers in the model using `keep_prob`. "
   ]
  },
  {
   "cell_type": "code",
   "execution_count": 342,
   "metadata": {
    "collapsed": false,
    "deletable": true,
    "editable": true
   },
   "outputs": [
    {
     "name": "stdout",
     "output_type": "stream",
     "text": [
      "conv_input_x:  Tensor(\"x:0\", shape=(?, 32, 32, 3), dtype=float32)\n",
      "conv1:  Tensor(\"dropout/mul:0\", shape=(?, 16, 16, 32), dtype=float32)\n",
      "xtensor:  Tensor(\"Reshape:0\", shape=(?, 8192), dtype=float32)\n",
      "conv_input_x:  Tensor(\"Placeholder:0\", shape=(?, 32, 32, 3), dtype=float32)\n",
      "conv1:  Tensor(\"dropout_1/mul:0\", shape=(?, 16, 16, 32), dtype=float32)\n",
      "xtensor:  Tensor(\"Reshape_4:0\", shape=(?, 8192), dtype=float32)\n",
      "Neural Network Built!\n"
     ]
    }
   ],
   "source": [
    "def conv_net(x, keep_prob):\n",
    "    \"\"\"\n",
    "    Create a convolutional neural network model\n",
    "    : x: Placeholder tensor that holds image data.\n",
    "    : keep_prob: Placeholder tensor that hold dropout keep probability.\n",
    "    : return: Tensor that represents logits\n",
    "    \"\"\"\n",
    "    # TODO: Apply 1, 2, or 3 Convolution and Max Pool layers\n",
    "    #    Play around with different number of outputs, kernel size and stride\n",
    "    # Function Definition from Above:\n",
    "    #   conv2d_maxpool(x_tensor, conv_num_outputs, conv_ksize, conv_strides, pool_ksize, pool_strides)\n",
    "    print('conv_input_x: ', x)\n",
    "    conv_num_outputs = (32,32,32)\n",
    "    conv_ksize = [(4,4), (2,2), (3,3)]\n",
    "    conv_strides = [(2,2), (1,1), (2,2)]\n",
    "    pool_ksize = [(2,2),(2,2),(2,2)]\n",
    "    pool_strides = [(1,1),(1,1),(1,1)]\n",
    "    num_outputs = (128,64,32)\n",
    "    \n",
    "    conv_layer_1 = conv2d_maxpool(x, conv_num_outputs[0], conv_ksize[0], conv_strides[0], pool_ksize[0], pool_strides[0])\n",
    "    conv_layer_1 = tf.nn.dropout(conv_layer_1, keep_prob=keep_prob)\n",
    "    print('conv1: ', conv_layer_1)\n",
    "    \n",
    "    conv_layer_2 = conv2d_maxpool(conv_layer_1,conv_num_outputs[1], conv_ksize[1], conv_strides[1], pool_ksize[1], pool_strides[1])\n",
    "    #conv_layer_2 = tf.nn.dropout(conv_layer_2, keep_prob=keep_prob)\n",
    "    #print('conv2: ', conv_layer_2)\n",
    "    \n",
    "    #conv_layer_3 = conv2d_maxpool(conv_layer_2, conv_num_outputs[2], conv_ksize[2], conv_strides[2], pool_ksize[2], pool_strides[2])\n",
    "    #conv_layer_3 = tf.nn.dropout(conv_layer_3, keep_prob=keep_prob)\n",
    "    #print('conv3: ', conv_layer_3)\n",
    "    \n",
    "    #conv_layer_4 = conv2d_maxpool(conv_layer_3, conv_num_outputs[2], conv_ksize[2], conv_strides[2], pool_ksize, pool_strides)\n",
    "    #print('conv4: ', conv_layer_4)\n",
    "    \n",
    "    # TODO: Apply a Flatten Layer\n",
    "    # Function Definition from Above:\n",
    "    #   flatten(x_tensor)\n",
    "    x_tensor = flatten(conv_layer_2)\n",
    "    print('xtensor: ', x_tensor)\n",
    "    # TODO: Apply 1, 2, or 3 Fully Connected Layers\n",
    "    #    Play around with different number of outputs\n",
    "    # Function Definition from Above:\n",
    "    #   fully_conn(x_tensor, num_outputs)\n",
    "\n",
    "    fully_connected_1 = fully_conn(x_tensor, num_outputs[0])\n",
    "    #fully_connected_1 = tf.nn.dropout(fully_connected_1, keep_prob=keep_prob)\n",
    "    #fully_connected_2 = fully_conn(fully_connected_1, num_outputs[1])\n",
    "    #fully_connected_2 = tf.nn.dropout(fully_connected_2, keep_prob=.75)\n",
    "    #fully_connected_3 = fully_conn(fully_connected_2, num_outputs[2])\n",
    "    #fully_connected_3 = tf.nn.dropout(fully_connected_3, keep_prob=.75)\n",
    "    \n",
    "    # TODO: Apply an Output Layer\n",
    "    #    Set this to the number of classes\n",
    "    # Function Definition from Above:\n",
    "    #   output(x_tensor, num_outputs)\n",
    "    # TODO: return output\n",
    "    return output(fully_connected_1, 10)\n",
    "\n",
    "\"\"\"\n",
    "DON'T MODIFY ANYTHING IN THIS CELL THAT IS BELOW THIS LINE\n",
    "\"\"\"\n",
    "\n",
    "##############################\n",
    "## Build the Neural Network ##\n",
    "##############################\n",
    "\n",
    "# Remove previous weights, bias, inputs, etc..\n",
    "tf.reset_default_graph()\n",
    "\n",
    "# Inputs\n",
    "x = neural_net_image_input((32, 32, 3))\n",
    "y = neural_net_label_input(10)\n",
    "keep_prob = neural_net_keep_prob_input()\n",
    "\n",
    "# Model\n",
    "logits = conv_net(x, keep_prob)\n",
    "\n",
    "# Name logits Tensor, so that is can be loaded from disk after training\n",
    "logits = tf.identity(logits, name='logits')\n",
    "\n",
    "# Loss and Optimizer\n",
    "cost = tf.reduce_mean(tf.nn.softmax_cross_entropy_with_logits(logits=logits, labels=y))\n",
    "optimizer = tf.train.AdamOptimizer().minimize(cost)\n",
    "\n",
    "# Accuracy\n",
    "correct_pred = tf.equal(tf.argmax(logits, 1), tf.argmax(y, 1))\n",
    "accuracy = tf.reduce_mean(tf.cast(correct_pred, tf.float32), name='accuracy')\n",
    "\n",
    "tests.test_conv_net(conv_net)"
   ]
  },
  {
   "cell_type": "markdown",
   "metadata": {
    "deletable": true,
    "editable": true
   },
   "source": [
    "## Train the Neural Network\n",
    "### Single Optimization\n",
    "Implement the function `train_neural_network` to do a single optimization.  The optimization should use `optimizer` to optimize in `session` with a `feed_dict` of the following:\n",
    "* `x` for image input\n",
    "* `y` for labels\n",
    "* `keep_prob` for keep probability for dropout\n",
    "\n",
    "This function will be called for each batch, so `tf.global_variables_initializer()` has already been called.\n",
    "\n",
    "Note: Nothing needs to be returned. This function is only optimizing the neural network."
   ]
  },
  {
   "cell_type": "code",
   "execution_count": 329,
   "metadata": {
    "collapsed": false,
    "deletable": true,
    "editable": true
   },
   "outputs": [
    {
     "name": "stdout",
     "output_type": "stream",
     "text": [
      "Tests Passed\n"
     ]
    }
   ],
   "source": [
    "def train_neural_network(session, optimizer, keep_probability, feature_batch, label_batch):\n",
    "    \"\"\"\n",
    "    Optimize the session on a batch of images and labels\n",
    "    : session: Current TensorFlow session\n",
    "    : optimizer: TensorFlow optimizer function\n",
    "    : keep_probability: keep probability\n",
    "    : feature_batch: Batch of Numpy image data\n",
    "    : label_batch: Batch of Numpy label data\n",
    "    \"\"\"\n",
    "    # TODO: Implement Function\n",
    "    session.run(optimizer, feed_dict={x: feature_batch, y: label_batch, keep_prob: keep_probability})\n",
    "\n",
    "\"\"\"\n",
    "DON'T MODIFY ANYTHING IN THIS CELL THAT IS BELOW THIS LINE\n",
    "\"\"\"\n",
    "tests.test_train_nn(train_neural_network)"
   ]
  },
  {
   "cell_type": "markdown",
   "metadata": {
    "deletable": true,
    "editable": true
   },
   "source": [
    "### Show Stats\n",
    "Implement the function `print_stats` to print loss and validation accuracy.  Use the global variables `valid_features` and `valid_labels` to calculate validation accuracy.  Use a keep probability of `1.0` to calculate the loss and validation accuracy."
   ]
  },
  {
   "cell_type": "code",
   "execution_count": 330,
   "metadata": {
    "collapsed": false,
    "deletable": true,
    "editable": true
   },
   "outputs": [],
   "source": [
    "def print_stats(session, feature_batch, label_batch, cost, accuracy):\n",
    "    \"\"\"\n",
    "    Print information about loss and validation accuracy\n",
    "    : session: Current TensorFlow session\n",
    "    : feature_batch: Batch of Numpy image data\n",
    "    : label_batch: Batch of Numpy label data\n",
    "    : cost: TensorFlow cost function\n",
    "    : accuracy: TensorFlow accuracy function\n",
    "    \"\"\"\n",
    "    # TODO: Implement Function\n",
    "    cost = sess.run(cost, feed_dict={x: feature_batch, y: label_batch, keep_prob: 1.})\n",
    "    acc = sess.run(accuracy, feed_dict={x: valid_features, y: valid_labels, keep_prob: 1.})\n",
    "    print('Loss: ', cost, ' Accuracy: ', acc)\n",
    "    pass"
   ]
  },
  {
   "cell_type": "markdown",
   "metadata": {
    "deletable": true,
    "editable": true
   },
   "source": [
    "### Hyperparameters\n",
    "Tune the following parameters:\n",
    "* Set `epochs` to the number of iterations until the network stops learning or start overfitting\n",
    "* Set `batch_size` to the highest number that your machine has memory for.  Most people set them to common sizes of memory:\n",
    " * 64\n",
    " * 128\n",
    " * 256\n",
    " * ...\n",
    "* Set `keep_probability` to the probability of keeping a node using dropout"
   ]
  },
  {
   "cell_type": "code",
   "execution_count": 341,
   "metadata": {
    "collapsed": true,
    "deletable": true,
    "editable": true
   },
   "outputs": [],
   "source": [
    "# TODO: Tune Parameters\n",
    "epochs = 20\n",
    "batch_size = 1024\n",
    "keep_probability = .5"
   ]
  },
  {
   "cell_type": "markdown",
   "metadata": {
    "deletable": true,
    "editable": true
   },
   "source": [
    "### Train on a Single CIFAR-10 Batch\n",
    "Instead of training the neural network on all the CIFAR-10 batches of data, let's use a single batch. This should save time while you iterate on the model to get a better accuracy.  Once the final validation accuracy is 50% or greater, run the model on all the data in the next section."
   ]
  },
  {
   "cell_type": "code",
   "execution_count": 343,
   "metadata": {
    "collapsed": false,
    "deletable": true,
    "editable": true,
    "scrolled": true
   },
   "outputs": [
    {
     "name": "stdout",
     "output_type": "stream",
     "text": [
      "Checking the Training on a Single Batch...\n",
      "Epoch  1, CIFAR-10 Batch 1:  Loss:  2.31573  Accuracy:  0.105\n",
      "Epoch  2, CIFAR-10 Batch 1:  Loss:  2.31099  Accuracy:  0.102\n",
      "Epoch  3, CIFAR-10 Batch 1:  Loss:  2.30294  Accuracy:  0.105\n",
      "Epoch  4, CIFAR-10 Batch 1:  Loss:  2.30395  Accuracy:  0.0998\n",
      "Epoch  5, CIFAR-10 Batch 1:  Loss:  2.30375  Accuracy:  0.102\n",
      "Epoch  6, CIFAR-10 Batch 1:  Loss:  2.30155  Accuracy:  0.105\n",
      "Epoch  7, CIFAR-10 Batch 1:  Loss:  2.30243  Accuracy:  0.1482\n",
      "Epoch  8, CIFAR-10 Batch 1:  Loss:  2.30157  Accuracy:  0.1052\n",
      "Epoch  9, CIFAR-10 Batch 1:  Loss:  2.30035  Accuracy:  0.1144\n",
      "Epoch 10, CIFAR-10 Batch 1:  Loss:  2.29864  Accuracy:  0.1214\n",
      "Epoch 11, CIFAR-10 Batch 1:  Loss:  2.29388  Accuracy:  0.1356\n",
      "Epoch 12, CIFAR-10 Batch 1:  Loss:  2.28388  Accuracy:  0.148\n",
      "Epoch 13, CIFAR-10 Batch 1:  Loss:  2.26282  Accuracy:  0.1458\n",
      "Epoch 14, CIFAR-10 Batch 1:  Loss:  2.22951  Accuracy:  0.1648\n",
      "Epoch 15, CIFAR-10 Batch 1:  Loss:  2.18862  Accuracy:  0.1586\n",
      "Epoch 16, CIFAR-10 Batch 1:  Loss:  2.16441  Accuracy:  0.1774\n",
      "Epoch 17, CIFAR-10 Batch 1:  Loss:  2.14356  Accuracy:  0.1804\n",
      "Epoch 18, CIFAR-10 Batch 1:  Loss:  2.1241  Accuracy:  0.1792\n",
      "Epoch 19, CIFAR-10 Batch 1:  Loss:  2.1125  Accuracy:  0.195\n",
      "Epoch 20, CIFAR-10 Batch 1:  Loss:  2.10044  Accuracy:  0.2008\n",
      "Checking the Training on a Single Batch...\n",
      "Epoch  1, CIFAR-10 Batch 1:  Loss:  2.31617  Accuracy:  0.102\n",
      "Epoch  2, CIFAR-10 Batch 1:  Loss:  2.32229  Accuracy:  0.0998\n",
      "Epoch  3, CIFAR-10 Batch 1:  Loss:  2.30596  Accuracy:  0.1138\n",
      "Epoch  4, CIFAR-10 Batch 1:  Loss:  2.30265  Accuracy:  0.107\n",
      "Epoch  5, CIFAR-10 Batch 1:  Loss:  2.3013  Accuracy:  0.0998\n",
      "Epoch  6, CIFAR-10 Batch 1:  Loss:  2.30069  Accuracy:  0.0998\n",
      "Epoch  7, CIFAR-10 Batch 1:  Loss:  2.30044  Accuracy:  0.0998\n",
      "Epoch  8, CIFAR-10 Batch 1:  Loss:  2.29913  Accuracy:  0.0998\n",
      "Epoch  9, CIFAR-10 Batch 1:  Loss:  2.29764  Accuracy:  0.0998\n",
      "Epoch 10, CIFAR-10 Batch 1:  Loss:  2.29515  Accuracy:  0.0998\n",
      "Epoch 11, CIFAR-10 Batch 1:  Loss:  2.2902  Accuracy:  0.1288\n",
      "Epoch 12, CIFAR-10 Batch 1:  Loss:  2.2817  Accuracy:  0.16\n",
      "Epoch 13, CIFAR-10 Batch 1:  Loss:  2.26834  Accuracy:  0.1136\n",
      "Epoch 14, CIFAR-10 Batch 1:  Loss:  2.23702  Accuracy:  0.1336\n",
      "Epoch 15, CIFAR-10 Batch 1:  Loss:  2.20734  Accuracy:  0.1242\n",
      "Epoch 16, CIFAR-10 Batch 1:  Loss:  2.1769  Accuracy:  0.1262\n",
      "Epoch 17, CIFAR-10 Batch 1:  Loss:  2.13218  Accuracy:  0.1626\n",
      "Epoch 18, CIFAR-10 Batch 1:  Loss:  2.11362  Accuracy:  0.1616\n",
      "Epoch 19, CIFAR-10 Batch 1:  Loss:  2.09999  Accuracy:  0.1656\n",
      "Epoch 20, CIFAR-10 Batch 1:  Loss:  2.07972  Accuracy:  0.1928\n"
     ]
    }
   ],
   "source": [
    "\"\"\"\n",
    "DON'T MODIFY ANYTHING IN THIS CELL\n",
    "\"\"\"\n",
    "print('Checking the Training on a Single Batch...')\n",
    "with tf.Session() as sess:\n",
    "    # Initializing the variables\n",
    "    sess.run(tf.global_variables_initializer())\n",
    "    \n",
    "    # Training cycle\n",
    "    for epoch in range(epochs):\n",
    "        batch_i = 1\n",
    "        for batch_features, batch_labels in helper.load_preprocess_training_batch(batch_i, batch_size):\n",
    "            train_neural_network(sess, optimizer, keep_probability, batch_features, batch_labels)\n",
    "        print('Epoch {:>2}, CIFAR-10 Batch {}:  '.format(epoch + 1, batch_i), end='')\n",
    "        print_stats(sess, batch_features, batch_labels, cost, accuracy)\n",
    "\n",
    "print('Checking the Training on a Single Batch...')\n",
    "with tf.Session() as sess:\n",
    "    # Initializing the variables\n",
    "    sess.run(tf.global_variables_initializer())\n",
    "    \n",
    "    # Training cycle\n",
    "    for epoch in range(epochs):\n",
    "        batch_i = 1\n",
    "        for batch_features, batch_labels in helper.load_preprocess_training_batch(batch_i, batch_size):\n",
    "            train_neural_network(sess, optimizer, keep_probability, batch_features, batch_labels)\n",
    "        print('Epoch {:>2}, CIFAR-10 Batch {}:  '.format(epoch + 1, batch_i), end='')\n",
    "        print_stats(sess, batch_features, batch_labels, cost, accuracy)"
   ]
  },
  {
   "cell_type": "markdown",
   "metadata": {
    "deletable": true,
    "editable": true
   },
   "source": [
    "### Fully Train the Model\n",
    "Now that you got a good accuracy with a single CIFAR-10 batch, try it with all five batches."
   ]
  },
  {
   "cell_type": "code",
   "execution_count": 78,
   "metadata": {
    "collapsed": false,
    "deletable": true,
    "editable": true,
    "scrolled": true
   },
   "outputs": [
    {
     "name": "stdout",
     "output_type": "stream",
     "text": [
      "Training...\n",
      "Epoch  1, CIFAR-10 Batch 1:  Loss:  6.62295  Accuracy:  0.159\n",
      "Epoch  1, CIFAR-10 Batch 2:  Loss:  4.38045  Accuracy:  0.1824\n",
      "Epoch  1, CIFAR-10 Batch 3:  Loss:  3.50082  Accuracy:  0.189\n",
      "Epoch  1, CIFAR-10 Batch 4:  Loss:  2.72181  Accuracy:  0.2022\n",
      "Epoch  1, CIFAR-10 Batch 5:  Loss:  2.80878  Accuracy:  0.215\n",
      "Epoch  2, CIFAR-10 Batch 1:  Loss:  2.54746  Accuracy:  0.2276\n",
      "Epoch  2, CIFAR-10 Batch 2:  Loss:  2.69875  Accuracy:  0.2218\n",
      "Epoch  2, CIFAR-10 Batch 3:  Loss:  2.07714  Accuracy:  0.2356\n",
      "Epoch  2, CIFAR-10 Batch 4:  Loss:  1.97691  Accuracy:  0.2392\n",
      "Epoch  2, CIFAR-10 Batch 5:  Loss:  2.07633  Accuracy:  0.2496\n",
      "Epoch  3, CIFAR-10 Batch 1:  Loss:  1.9903  Accuracy:  0.2524\n",
      "Epoch  3, CIFAR-10 Batch 2:  Loss:  2.28113  Accuracy:  0.2638\n",
      "Epoch  3, CIFAR-10 Batch 3:  Loss:  1.77275  Accuracy:  0.2622\n",
      "Epoch  3, CIFAR-10 Batch 4:  Loss:  1.73639  Accuracy:  0.2692\n",
      "Epoch  3, CIFAR-10 Batch 5:  Loss:  1.94481  Accuracy:  0.2794\n",
      "Epoch  4, CIFAR-10 Batch 1:  Loss:  1.79923  Accuracy:  0.2674\n",
      "Epoch  4, CIFAR-10 Batch 2:  Loss:  2.13436  Accuracy:  0.291\n",
      "Epoch  4, CIFAR-10 Batch 3:  Loss:  1.51912  Accuracy:  0.2868\n",
      "Epoch  4, CIFAR-10 Batch 4:  Loss:  1.59571  Accuracy:  0.29\n",
      "Epoch  4, CIFAR-10 Batch 5:  Loss:  1.80174  Accuracy:  0.2864\n",
      "Epoch  5, CIFAR-10 Batch 1:  Loss:  1.68974  Accuracy:  0.2824\n",
      "Epoch  5, CIFAR-10 Batch 2:  Loss:  1.97981  Accuracy:  0.3116\n",
      "Epoch  5, CIFAR-10 Batch 3:  Loss:  1.47676  Accuracy:  0.3032\n",
      "Epoch  5, CIFAR-10 Batch 4:  Loss:  1.5629  Accuracy:  0.324\n",
      "Epoch  5, CIFAR-10 Batch 5:  Loss:  1.61554  Accuracy:  0.3232\n",
      "Epoch  6, CIFAR-10 Batch 1:  Loss:  1.64993  Accuracy:  0.2938\n",
      "Epoch  6, CIFAR-10 Batch 2:  Loss:  1.82535  Accuracy:  0.3284\n",
      "Epoch  6, CIFAR-10 Batch 3:  Loss:  1.42963  Accuracy:  0.3112\n",
      "Epoch  6, CIFAR-10 Batch 4:  Loss:  1.52633  Accuracy:  0.3486\n",
      "Epoch  6, CIFAR-10 Batch 5:  Loss:  1.49558  Accuracy:  0.3324\n",
      "Epoch  7, CIFAR-10 Batch 1:  Loss:  1.61711  Accuracy:  0.3246\n",
      "Epoch  7, CIFAR-10 Batch 2:  Loss:  1.74574  Accuracy:  0.334\n",
      "Epoch  7, CIFAR-10 Batch 3:  Loss:  1.36996  Accuracy:  0.3298\n",
      "Epoch  7, CIFAR-10 Batch 4:  Loss:  1.4085  Accuracy:  0.3798\n",
      "Epoch  7, CIFAR-10 Batch 5:  Loss:  1.40772  Accuracy:  0.3502\n",
      "Epoch  8, CIFAR-10 Batch 1:  Loss:  1.59324  Accuracy:  0.3478\n",
      "Epoch  8, CIFAR-10 Batch 2:  Loss:  1.63571  Accuracy:  0.362\n",
      "Epoch  8, CIFAR-10 Batch 3:  Loss:  1.27967  Accuracy:  0.3518\n",
      "Epoch  8, CIFAR-10 Batch 4:  Loss:  1.34685  Accuracy:  0.3878\n",
      "Epoch  8, CIFAR-10 Batch 5:  Loss:  1.35679  Accuracy:  0.3614\n",
      "Epoch  9, CIFAR-10 Batch 1:  Loss:  1.55261  Accuracy:  0.3634\n",
      "Epoch  9, CIFAR-10 Batch 2:  Loss:  1.53915  Accuracy:  0.3706\n",
      "Epoch  9, CIFAR-10 Batch 3:  Loss:  1.27122  Accuracy:  0.3632\n",
      "Epoch  9, CIFAR-10 Batch 4:  Loss:  1.32631  Accuracy:  0.404\n",
      "Epoch  9, CIFAR-10 Batch 5:  Loss:  1.28534  Accuracy:  0.3816\n",
      "Epoch 10, CIFAR-10 Batch 1:  Loss:  1.57258  Accuracy:  0.347\n",
      "Epoch 10, CIFAR-10 Batch 2:  Loss:  1.43303  Accuracy:  0.382\n",
      "Epoch 10, CIFAR-10 Batch 3:  Loss:  1.21515  Accuracy:  0.3672\n",
      "Epoch 10, CIFAR-10 Batch 4:  Loss:  1.27622  Accuracy:  0.4164\n",
      "Epoch 10, CIFAR-10 Batch 5:  Loss:  1.24768  Accuracy:  0.3898\n",
      "Epoch 11, CIFAR-10 Batch 1:  Loss:  1.53944  Accuracy:  0.3588\n",
      "Epoch 11, CIFAR-10 Batch 2:  Loss:  1.36831  Accuracy:  0.3928\n",
      "Epoch 11, CIFAR-10 Batch 3:  Loss:  1.18722  Accuracy:  0.3738\n",
      "Epoch 11, CIFAR-10 Batch 4:  Loss:  1.25707  Accuracy:  0.4242\n",
      "Epoch 11, CIFAR-10 Batch 5:  Loss:  1.23257  Accuracy:  0.4022\n",
      "Epoch 12, CIFAR-10 Batch 1:  Loss:  1.52417  Accuracy:  0.3696\n",
      "Epoch 12, CIFAR-10 Batch 2:  Loss:  1.31524  Accuracy:  0.4034\n",
      "Epoch 12, CIFAR-10 Batch 3:  Loss:  1.12508  Accuracy:  0.3878\n",
      "Epoch 12, CIFAR-10 Batch 4:  Loss:  1.24712  Accuracy:  0.4256\n",
      "Epoch 12, CIFAR-10 Batch 5:  Loss:  1.16585  Accuracy:  0.4158\n",
      "Epoch 13, CIFAR-10 Batch 1:  Loss:  1.4818  Accuracy:  0.3846\n",
      "Epoch 13, CIFAR-10 Batch 2:  Loss:  1.27586  Accuracy:  0.4102\n",
      "Epoch 13, CIFAR-10 Batch 3:  Loss:  1.12249  Accuracy:  0.3904\n",
      "Epoch 13, CIFAR-10 Batch 4:  Loss:  1.18366  Accuracy:  0.4282\n",
      "Epoch 13, CIFAR-10 Batch 5:  Loss:  1.14382  Accuracy:  0.4242\n",
      "Epoch 14, CIFAR-10 Batch 1:  Loss:  1.4284  Accuracy:  0.3852\n",
      "Epoch 14, CIFAR-10 Batch 2:  Loss:  1.24102  Accuracy:  0.4134\n",
      "Epoch 14, CIFAR-10 Batch 3:  Loss:  1.04037  Accuracy:  0.3964\n",
      "Epoch 14, CIFAR-10 Batch 4:  Loss:  1.16596  Accuracy:  0.43\n",
      "Epoch 14, CIFAR-10 Batch 5:  Loss:  1.13785  Accuracy:  0.4192\n",
      "Epoch 15, CIFAR-10 Batch 1:  Loss:  1.50894  Accuracy:  0.3744\n",
      "Epoch 15, CIFAR-10 Batch 2:  Loss:  1.23534  Accuracy:  0.4076\n",
      "Epoch 15, CIFAR-10 Batch 3:  Loss:  1.01414  Accuracy:  0.3964\n",
      "Epoch 15, CIFAR-10 Batch 4:  Loss:  1.16416  Accuracy:  0.4346\n",
      "Epoch 15, CIFAR-10 Batch 5:  Loss:  1.09639  Accuracy:  0.4282\n",
      "Epoch 16, CIFAR-10 Batch 1:  Loss:  1.41198  Accuracy:  0.4106\n",
      "Epoch 16, CIFAR-10 Batch 2:  Loss:  1.18923  Accuracy:  0.4284\n",
      "Epoch 16, CIFAR-10 Batch 3:  Loss:  0.957517  Accuracy:  0.4068\n",
      "Epoch 16, CIFAR-10 Batch 4:  Loss:  1.11013  Accuracy:  0.4358\n",
      "Epoch 16, CIFAR-10 Batch 5:  Loss:  1.10293  Accuracy:  0.4272\n",
      "Epoch 17, CIFAR-10 Batch 1:  Loss:  1.42405  Accuracy:  0.407\n",
      "Epoch 17, CIFAR-10 Batch 2:  Loss:  1.13315  Accuracy:  0.4332\n",
      "Epoch 17, CIFAR-10 Batch 3:  Loss:  0.949653  Accuracy:  0.4182\n",
      "Epoch 17, CIFAR-10 Batch 4:  Loss:  1.07988  Accuracy:  0.434\n",
      "Epoch 17, CIFAR-10 Batch 5:  Loss:  1.10248  Accuracy:  0.4238\n",
      "Epoch 18, CIFAR-10 Batch 1:  Loss:  1.40644  Accuracy:  0.404\n",
      "Epoch 18, CIFAR-10 Batch 2:  Loss:  1.11616  Accuracy:  0.427\n",
      "Epoch 18, CIFAR-10 Batch 3:  Loss:  0.899952  Accuracy:  0.428\n",
      "Epoch 18, CIFAR-10 Batch 4:  Loss:  1.00536  Accuracy:  0.4498\n",
      "Epoch 18, CIFAR-10 Batch 5:  Loss:  1.1208  Accuracy:  0.432\n",
      "Epoch 19, CIFAR-10 Batch 1:  Loss:  1.36623  Accuracy:  0.4358\n",
      "Epoch 19, CIFAR-10 Batch 2:  Loss:  1.09363  Accuracy:  0.4322\n",
      "Epoch 19, CIFAR-10 Batch 3:  Loss:  0.865039  Accuracy:  0.432\n",
      "Epoch 19, CIFAR-10 Batch 4:  Loss:  0.946031  Accuracy:  0.4504\n",
      "Epoch 19, CIFAR-10 Batch 5:  Loss:  1.06661  Accuracy:  0.4354\n",
      "Epoch 20, CIFAR-10 Batch 1:  Loss:  1.33375  Accuracy:  0.4344\n",
      "Epoch 20, CIFAR-10 Batch 2:  Loss:  1.05798  Accuracy:  0.4446\n",
      "Epoch 20, CIFAR-10 Batch 3:  Loss:  0.844609  Accuracy:  0.4322\n",
      "Epoch 20, CIFAR-10 Batch 4:  Loss:  0.940788  Accuracy:  0.464\n",
      "Epoch 20, CIFAR-10 Batch 5:  Loss:  1.11758  Accuracy:  0.435\n"
     ]
    }
   ],
   "source": [
    "\"\"\"\n",
    "DON'T MODIFY ANYTHING IN THIS CELL\n",
    "\"\"\"\n",
    "save_model_path = './image_classification'\n",
    "\n",
    "print('Training...')\n",
    "with tf.Session() as sess:\n",
    "    # Initializing the variables\n",
    "    sess.run(tf.global_variables_initializer())\n",
    "    \n",
    "    # Training cycle\n",
    "    for epoch in range(epochs):\n",
    "        # Loop over all batches\n",
    "        n_batches = 5\n",
    "        for batch_i in range(1, n_batches + 1):\n",
    "            for batch_features, batch_labels in helper.load_preprocess_training_batch(batch_i, batch_size):\n",
    "                train_neural_network(sess, optimizer, keep_probability, batch_features, batch_labels)\n",
    "            print('Epoch {:>2}, CIFAR-10 Batch {}:  '.format(epoch + 1, batch_i), end='')\n",
    "            print_stats(sess, batch_features, batch_labels, cost, accuracy)\n",
    "            \n",
    "    # Save Model\n",
    "    saver = tf.train.Saver()\n",
    "    save_path = saver.save(sess, save_model_path)"
   ]
  },
  {
   "cell_type": "markdown",
   "metadata": {
    "deletable": true,
    "editable": true
   },
   "source": [
    "# Checkpoint\n",
    "The model has been saved to disk.\n",
    "## Test Model\n",
    "Test your model against the test dataset.  This will be your final accuracy. You should have an accuracy greater than 50%. If you don't, keep tweaking the model architecture and parameters."
   ]
  },
  {
   "cell_type": "code",
   "execution_count": 81,
   "metadata": {
    "collapsed": false,
    "deletable": true,
    "editable": true
   },
   "outputs": [
    {
     "name": "stdout",
     "output_type": "stream",
     "text": [
      "Testing Accuracy: 0.46748046875\n",
      "\n"
     ]
    },
    {
     "data": {
      "image/png": "[encoded data removed]",
      "text/plain": [
       "<matplotlib.figure.Figure at 0x7f20fc38ae48>"
      ]
     },
     "metadata": {
      "image/png": {
       "height": 319,
       "width": 355
      }
     },
     "output_type": "display_data"
    }
   ],
   "source": [
    "\"\"\"\n",
    "DON'T MODIFY ANYTHING IN THIS CELL\n",
    "\"\"\"\n",
    "%matplotlib inline\n",
    "%config InlineBackend.figure_format = 'retina'\n",
    "\n",
    "import tensorflow as tf\n",
    "import pickle\n",
    "import helper\n",
    "import random\n",
    "\n",
    "# Set batch size if not already set\n",
    "try:\n",
    "    if batch_size:\n",
    "        pass\n",
    "except NameError:\n",
    "    batch_size = 64\n",
    "\n",
    "save_model_path = './image_classification'\n",
    "n_samples = 4\n",
    "top_n_predictions = 3\n",
    "\n",
    "def test_model():\n",
    "    \"\"\"\n",
    "    Test the saved model against the test dataset\n",
    "    \"\"\"\n",
    "\n",
    "    test_features, test_labels = pickle.load(open('preprocess_training.p', mode='rb'))\n",
    "    loaded_graph = tf.Graph()\n",
    "\n",
    "    with tf.Session(graph=loaded_graph) as sess:\n",
    "        # Load model\n",
    "        loader = tf.train.import_meta_graph(save_model_path + '.meta')\n",
    "        loader.restore(sess, save_model_path)\n",
    "\n",
    "        # Get Tensors from loaded model\n",
    "        loaded_x = loaded_graph.get_tensor_by_name('x:0')\n",
    "        loaded_y = loaded_graph.get_tensor_by_name('y:0')\n",
    "        loaded_keep_prob = loaded_graph.get_tensor_by_name('keep_prob:0')\n",
    "        loaded_logits = loaded_graph.get_tensor_by_name('logits:0')\n",
    "        loaded_acc = loaded_graph.get_tensor_by_name('accuracy:0')\n",
    "        \n",
    "        # Get accuracy in batches for memory limitations\n",
    "        test_batch_acc_total = 0\n",
    "        test_batch_count = 0\n",
    "        \n",
    "        for train_feature_batch, train_label_batch in helper.batch_features_labels(test_features, test_labels, batch_size):\n",
    "            test_batch_acc_total += sess.run(\n",
    "                loaded_acc,\n",
    "                feed_dict={loaded_x: train_feature_batch, loaded_y: train_label_batch, loaded_keep_prob: 1.0})\n",
    "            test_batch_count += 1\n",
    "\n",
    "        print('Testing Accuracy: {}\\n'.format(test_batch_acc_total/test_batch_count))\n",
    "\n",
    "        # Print Random Samples\n",
    "        random_test_features, random_test_labels = tuple(zip(*random.sample(list(zip(test_features, test_labels)), n_samples)))\n",
    "        random_test_predictions = sess.run(\n",
    "            tf.nn.top_k(tf.nn.softmax(loaded_logits), top_n_predictions),\n",
    "            feed_dict={loaded_x: random_test_features, loaded_y: random_test_labels, loaded_keep_prob: 1.0})\n",
    "        helper.display_image_predictions(random_test_features, random_test_labels, random_test_predictions)\n",
    "\n",
    "\n",
    "test_model()"
   ]
  },
  {
   "cell_type": "markdown",
   "metadata": {
    "deletable": true,
    "editable": true
   },
   "source": [
    "## Why 50-70% Accuracy?\n",
    "You might be wondering why you can't get an accuracy any higher. First things first, 50% isn't bad for a simple CNN.  Pure guessing would get you 10% accuracy. However, you might notice people are getting scores [well above 70%](http://rodrigob.github.io/are_we_there_yet/build/classification_datasets_results.html#43494641522d3130).  That's because we haven't taught you all there is to know about neural networks. We still need to cover a few more techniques.\n",
    "## Submitting This Project\n",
    "When submitting this project, make sure to run all the cells before saving the notebook.  Save the notebook file as \"dlnd_image_classification.ipynb\" and save it as a HTML file under \"File\" -> \"Download as\".  Include the \"helper.py\" and \"problem_unittests.py\" files in your submission."
   ]
  }
 ],
 "metadata": {
  "anaconda-cloud": {},
  "kernelspec": {
   "display_name": "Python 3",
   "language": "python",
   "name": "python3"
  },
  "language_info": {
   "codemirror_mode": {
    "name": "ipython",
    "version": 3
   },
   "file_extension": ".py",
   "mimetype": "text/x-python",
   "name": "python",
   "nbconvert_exporter": "python",
   "pygments_lexer": "ipython3",
   "version": "3.5.3"
  }
 },
 "nbformat": 4,
 "nbformat_minor": 0
}
